{
 "cells": [
  {
   "cell_type": "markdown",
   "metadata": {},
   "source": [
    "### Notebook for running SCOT on scGEM Data\n",
    "**Note:** This version of the notebook runs a new setting for SCOT, where we use correlation as a metric for building kNN graphs and use connectivity information from this graph in intra-domain similarity matrices fed into the optimal transport algorithm.  \n",
    "\n",
    "SCOT software has been updated on 20 September 2020. It now outputs error statements for convergence issues at low epsilon values. When it runs into numerical instabilities in convergence, it outputs None, None instead of X_new, y_new. If you run into such an error, please try using a larger epsilon value for the entropic regularization.  \n",
    "\n",
    "If you have any questions, e-mail: ritambhara@brown.edu, pinar_demetci@brown.edu, rebecca_santorella@brown.edu  "
   ]
  },
  {
   "cell_type": "code",
   "execution_count": 6,
   "metadata": {},
   "outputs": [],
   "source": [
    "import src.utils as ut\n",
    "import src.evals as evals\n",
    "from src.scot import *"
   ]
  },
  {
   "cell_type": "code",
   "execution_count": 7,
   "metadata": {},
   "outputs": [
    {
     "name": "stdout",
     "output_type": "stream",
     "text": [
      "Dimensions of input datasets are:  X=  (177, 27)  y=  (177, 34)\n"
     ]
    }
   ],
   "source": [
    "X=np.genfromtxt(\"data/scGEM_methylation.csv\", delimiter=\",\")\n",
    "y=np.genfromtxt(\"data/scGEM_expression.csv\", delimiter=\",\")\n",
    "print(\"Dimensions of input datasets are: \", \"X= \", X.shape, \" y= \", y.shape)"
   ]
  },
  {
   "cell_type": "code",
   "execution_count": 8,
   "metadata": {},
   "outputs": [
    {
     "name": "stdout",
     "output_type": "stream",
     "text": [
      "It.  |Err         \n",
      "-------------------\n",
      "    0|4.960354e-03|\n",
      "   10|3.044009e-04|\n",
      "   20|1.238559e-04|\n",
      "   30|3.991449e-05|\n",
      "   40|1.207972e-05|\n",
      "   50|3.565486e-06|\n",
      "   60|1.043156e-06|\n",
      "   70|3.043384e-07|\n",
      "   80|8.871365e-08|\n",
      "   90|2.585305e-08|\n",
      "  100|7.533550e-09|\n",
      "  110|2.195218e-09|\n",
      "  120|6.396653e-10|\n"
     ]
    }
   ],
   "source": [
    "X=ut.zscore_standardize(X)\n",
    "y=ut.zscore_standardize(y)\n",
    "X_new,y_new= scot(X, y, k=35, e=5e-3, mode=\"connectivity\", metric=\"correlation\")"
   ]
  },
  {
   "cell_type": "markdown",
   "metadata": {},
   "source": [
    "### Evaluating Alignment"
   ]
  },
  {
   "cell_type": "code",
   "execution_count": 9,
   "metadata": {},
   "outputs": [
    {
     "name": "stdout",
     "output_type": "stream",
     "text": [
      "Average FOSCTTM score for this alignment is:  0.216454802259887\n"
     ]
    }
   ],
   "source": [
    "fracs=evals.calc_domainAveraged_FOSCTTM(X_new, y_new)\n",
    "print(\"Average FOSCTTM score for this alignment is: \", np.mean(fracs))"
   ]
  },
  {
   "cell_type": "code",
   "execution_count": 5,
   "metadata": {},
   "outputs": [
    {
     "data": {
      "image/png": "[encoded data removed]",
      "text/plain": [
       "<Figure size 432x288 with 1 Axes>"
      ]
     },
     "metadata": {
      "needs_background": "light"
     },
     "output_type": "display_data"
    }
   ],
   "source": [
    "import matplotlib.pyplot as plt\n",
    "legend_label=\"SCOT alignment FOSCTTM \\n average value: \"+str(np.mean(fracs))\n",
    "plt.plot(np.arange(len(fracs)), np.sort(fracs), \"r--\", label=legend_label)\n",
    "plt.legend()\n",
    "plt.xlabel(\"Cells\")\n",
    "plt.ylabel(\"Sorted FOSCTTM\")\n",
    "plt.show()"
   ]
  },
  {
   "cell_type": "markdown",
   "metadata": {},
   "source": [
    "### Visualizing Alignment"
   ]
  },
  {
   "cell_type": "code",
   "execution_count": null,
   "metadata": {},
   "outputs": [],
   "source": [
    "import matplotlib.pyplot as plt\n",
    "from sklearn.decomposition import PCA\n",
    "\n",
    "pca=PCA(n_components=2)\n",
    "Xy_pca=pca.fit_transform(np.concatenate((X_new, y_new), axis=0))\n",
    "X_pca=Xy_pca[0: 177,]\n",
    "y_pca=Xy_pca[177:,]\n",
    "\n",
    "### Read in cell type information:\n",
    "# Xlabels=np.genfromtxt(\"data/scGEM_typeExpression.txt\")\n",
    "# ylabels=np.genfromtxt(\"data/scGEM_typeMethylation.txt\")\n",
    "\n",
    "fig, (ax1, ax2) = plt.subplots(1, 2)\n",
    "ax1.scatter(X_pca[:,0], X_pca[:,1], c=\"k\", s=15, label=\"Gene Expression\")\n",
    "ax1.scatter(y_pca[:,0], y_pca[:,1], c=\"r\", s=15, label=\"DNA Methylation\")\n",
    "ax1.legend()\n",
    "ax1.set_title(\"Colored based on domains\")\n",
    "\n",
    "ax2.scatter(X_pca[:,0], X_pca[:,1], cmap=\"rainbow\")# , c=Xlabels, s=15)\n",
    "ax2.scatter(y_pca[:,0], y_pca[:,1], cmap=\"rainbow\")# , c=ylabels, s=15)\n",
    "ax2.set_title(\"Colored based on cell type\")\n",
    "plt.show()\n"
   ]
  },
  {
   "cell_type": "code",
   "execution_count": null,
   "metadata": {},
   "outputs": [],
   "source": []
  }
 ],
 "metadata": {
  "kernelspec": {
   "display_name": "Python 3",
   "language": "python",
   "name": "python3"
  },
  "language_info": {
   "codemirror_mode": {
    "name": "ipython",
    "version": 3
   },
   "file_extension": ".py",
   "mimetype": "text/x-python",
   "name": "python",
   "nbconvert_exporter": "python",
   "pygments_lexer": "ipython3",
   "version": "3.7.6"
  }
 },
 "nbformat": 4,
 "nbformat_minor": 4
}
